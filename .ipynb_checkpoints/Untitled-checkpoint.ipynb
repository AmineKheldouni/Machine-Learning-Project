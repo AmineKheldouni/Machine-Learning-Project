{
 "cells": [
  {
   "cell_type": "markdown",
   "metadata": {},
   "source": [
    "# Learning from the crowd"
   ]
  },
  {
   "cell_type": "code",
   "execution_count": 5,
   "metadata": {
    "collapsed": false
   },
   "outputs": [],
   "source": [
    "# Modules importés\n",
    "\n",
    "import numpy as np\n",
    "import matplotlib.pyplot as plt\n",
    "from tools import *"
   ]
  },
  {
   "cell_type": "code",
   "execution_count": 4,
   "metadata": {
    "collapsed": false
   },
   "outputs": [
    {
     "ename": "IndentationError",
     "evalue": "expected an indented block (<ipython-input-4-4660b214d6d3>, line 4)",
     "output_type": "error",
     "traceback": [
      "\u001b[0;36m  File \u001b[0;32m\"<ipython-input-4-4660b214d6d3>\"\u001b[0;36m, line \u001b[0;32m4\u001b[0m\n\u001b[0;31m    def fit(self, X, Y, Z):\u001b[0m\n\u001b[0m      ^\u001b[0m\n\u001b[0;31mIndentationError\u001b[0m\u001b[0;31m:\u001b[0m expected an indented block\n"
     ]
    }
   ],
   "source": [
    "class LearnCrowd:\n",
    "    def __init__(self, T, N, d):\n",
    "        self.alpha = np.zeros((1,d)) # Poids des dimensions\n",
    "        self.beta = 0\n",
    "        self.w = np.zeros((d,T)) # Poids des labelleurs\n",
    "        self.gamma = np.zeros((1,T))\n",
    "        \n",
    "    def likelihoodBernouilli(self, X, Y):\n",
    "    \n",
    "    def likelihoodGaussian(self, X, Y):\n",
    "        \n",
    "    def fit(self, X, Y, model=likelihoodBernouilli, eps = 10**(-6)):\n",
    "        self.alpha = np.zeros((1,d))\n",
    "        self.beta = 0\n",
    "        alphaNew = np.ones((1,d))\n",
    "        betaNew = 1\n",
    "        while (np.linalg.norm(self.alpha-alphaNew)**2 + (self.beta-betaNew)**2 >= eps):\n",
    "            # Expectation (E-step)\n",
    "            lh = model(self, X, Y)\n",
    "    def predict(self, X):\n",
    "        \n",
    "    def predictV2(self, Y):\n",
    "        \n",
    "    def score(self, X, Z):\n",
    "        # On connaît la vérité terrain\n",
    "        return np.sum(predict(X)==Z)\n",
    "    \n",
    "    def get_eps(self):\n",
    "        \n",
    "    def loss(self,data,y):\n",
    "        \n",
    "    def loss_g(self,data,y):\n"
   ]
  },
  {
   "cell_type": "code",
   "execution_count": null,
   "metadata": {
    "collapsed": true
   },
   "outputs": [],
   "source": []
  }
 ],
 "metadata": {
  "kernelspec": {
   "display_name": "Python 3",
   "language": "python",
   "name": "python3"
  },
  "language_info": {
   "codemirror_mode": {
    "name": "ipython",
    "version": 3
   },
   "file_extension": ".py",
   "mimetype": "text/x-python",
   "name": "python",
   "nbconvert_exporter": "python",
   "pygments_lexer": "ipython3",
   "version": "3.5.2"
  }
 },
 "nbformat": 4,
 "nbformat_minor": 2
}
