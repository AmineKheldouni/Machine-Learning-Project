{
 "cells": [
  {
   "cell_type": "markdown",
   "metadata": {},
   "source": [
    "# Learning from the crowd"
   ]
  },
  {
   "cell_type": "code",
   "execution_count": 2,
   "metadata": {
    "collapsed": false
   },
   "outputs": [],
   "source": [
    "# Modules importés\n",
    "\n",
    "import numpy as np\n",
    "import matplotlib.pyplot as plt\n",
    "from tools import *\n",
    "from sklearn import datasets"
   ]
  },
  {
   "cell_type": "code",
   "execution_count": null,
   "metadata": {
    "collapsed": true
   },
   "outputs": [],
   "source": [
    "class Perceptron:\n",
    "    def __init__(self,max_iter = 1000,eps=1e-3,projection = None):\n",
    "        self.max_iter = max_iter\n",
    "        self.eps = eps\n",
    "        self.projection = projection or (lambda x: x) #projection fonction identite par default\n",
    "\n",
    "    def fit(self,data,y):\n",
    "        data = self.projection(data)\n",
    "        self.w = np.random.random((1,data.shape[1]))\n",
    "        self.histo_w  = np.zeros((self.max_iter,data.shape[1]))\n",
    "        self.histo_f = np.zeros((self.max_iter,1))\n",
    "        ylab=set(y.flat)\n",
    "        if len(ylab)!=2:\n",
    "            print(\"pas bon nombres de labels (%d)\" % (ylab,))\n",
    "            return\n",
    "        self.labels = {-1: min(ylab), 1:max(ylab)}\n",
    "        y = 2*(y!=self.labels[-1])-1\n",
    "        i=0\n",
    "        while i<self.max_iter:\n",
    "            idx = range(len(data))\n",
    "            for j in idx:\n",
    "                self.w = self.w - self.get_eps()*self.loss_g(data[j],y[j:(j+1)])\n",
    "            self.histo_w[i]=self.w\n",
    "            self.histo_f[i]=self.loss(data, y)\n",
    "            if i % 100==0: print(i,self.histo_f[i])\n",
    "            i+=1\n",
    "    def predict(self,data):\n",
    "        data = self.projection(data)\n",
    "        return np.array([self.labels[x] for x in np.sign(data.dot(self.w.T)).flat]).reshape((len(data),))\n",
    "    def score(self,data,y):\n",
    "        return np.mean(self.predict(data)==y)\n",
    "    def get_eps(self):\n",
    "        return self.eps\n",
    "    def loss(self,data,y):\n",
    "        return hinge(self.w,data,y)\n",
    "    def loss_g(self,data,y):\n",
    "        return grad_hinge(self.w,data,y)\n",
    "\n",
    "    \n",
    "def hinge(w, data, y, alpha=0):\n",
    "    data, y, w = data.reshape(len(y), -1), y.reshape(-1, 1), w.reshape(1, -1)\n",
    "    return np.mean(np.maximum(0, -y * data.dot(w.T)))\n",
    "\n",
    "def grad_hinge(w, data, y, alpha=0):\n",
    "    data, y, w = data.reshape(len(y), -1), y.reshape(-1, 1), w.reshape(1, -1)\n",
    "    return -np.mean(((-y * data.dot(w.T) >= 0)) * data * y, 0)\n"
   ]
  }
 ],
 "metadata": {
  "kernelspec": {
   "display_name": "Python 3",
   "language": "python",
   "name": "python3"
  },
  "language_info": {
   "codemirror_mode": {
    "name": "ipython",
    "version": 3
   },
   "file_extension": ".py",
   "mimetype": "text/x-python",
   "name": "python",
   "nbconvert_exporter": "python",
   "pygments_lexer": "ipython3",
   "version": "3.5.2"
  }
 },
 "nbformat": 4,
 "nbformat_minor": 2
}
