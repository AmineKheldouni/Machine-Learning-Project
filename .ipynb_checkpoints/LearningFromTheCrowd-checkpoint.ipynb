{
 "cells": [
  {
   "cell_type": "markdown",
   "metadata": {
    "deletable": true,
    "editable": true
   },
   "source": [
    "# Learning from the crowd"
   ]
  },
  {
   "cell_type": "code",
   "execution_count": 8,
   "metadata": {
    "collapsed": false,
    "deletable": true,
    "editable": true
   },
   "outputs": [
    {
     "ename": "ImportError",
     "evalue": "cannot import name 'ellipkm1'",
     "output_type": "error",
     "traceback": [
      "\u001b[0;31m---------------------------------------------------------------------------\u001b[0m",
      "\u001b[0;31mImportError\u001b[0m                               Traceback (most recent call last)",
      "\u001b[0;32m<ipython-input-8-fc76812dd1fb>\u001b[0m in \u001b[0;36m<module>\u001b[0;34m()\u001b[0m\n\u001b[1;32m      4\u001b[0m \u001b[0;32mimport\u001b[0m \u001b[0mmatplotlib\u001b[0m\u001b[0;34m.\u001b[0m\u001b[0mpyplot\u001b[0m \u001b[0;32mas\u001b[0m \u001b[0mplt\u001b[0m\u001b[0;34m\u001b[0m\u001b[0m\n\u001b[1;32m      5\u001b[0m \u001b[0;32mfrom\u001b[0m \u001b[0mtools\u001b[0m \u001b[0;32mimport\u001b[0m \u001b[0;34m*\u001b[0m\u001b[0;34m\u001b[0m\u001b[0m\n\u001b[0;32m----> 6\u001b[0;31m \u001b[0;32mfrom\u001b[0m \u001b[0mscipy\u001b[0m\u001b[0;34m.\u001b[0m\u001b[0moptimize\u001b[0m \u001b[0;32mimport\u001b[0m \u001b[0mminimize\u001b[0m\u001b[0;34m\u001b[0m\u001b[0m\n\u001b[0m",
      "\u001b[0;32m/home/amine/miniconda3/lib/python3.5/site-packages/scipy/optimize/__init__.py\u001b[0m in \u001b[0;36m<module>\u001b[0;34m()\u001b[0m\n\u001b[1;32m    231\u001b[0m \u001b[0;34m\u001b[0m\u001b[0m\n\u001b[1;32m    232\u001b[0m \u001b[0;32mfrom\u001b[0m \u001b[0;34m.\u001b[0m\u001b[0moptimize\u001b[0m \u001b[0;32mimport\u001b[0m \u001b[0;34m*\u001b[0m\u001b[0;34m\u001b[0m\u001b[0m\n\u001b[0;32m--> 233\u001b[0;31m \u001b[0;32mfrom\u001b[0m \u001b[0;34m.\u001b[0m\u001b[0m_minimize\u001b[0m \u001b[0;32mimport\u001b[0m \u001b[0;34m*\u001b[0m\u001b[0;34m\u001b[0m\u001b[0m\n\u001b[0m\u001b[1;32m    234\u001b[0m \u001b[0;32mfrom\u001b[0m \u001b[0;34m.\u001b[0m\u001b[0m_root\u001b[0m \u001b[0;32mimport\u001b[0m \u001b[0;34m*\u001b[0m\u001b[0;34m\u001b[0m\u001b[0m\n\u001b[1;32m    235\u001b[0m \u001b[0;32mfrom\u001b[0m \u001b[0;34m.\u001b[0m\u001b[0mminpack\u001b[0m \u001b[0;32mimport\u001b[0m \u001b[0;34m*\u001b[0m\u001b[0;34m\u001b[0m\u001b[0m\n",
      "\u001b[0;32m/home/amine/miniconda3/lib/python3.5/site-packages/scipy/optimize/_minimize.py\u001b[0m in \u001b[0;36m<module>\u001b[0;34m()\u001b[0m\n\u001b[1;32m     28\u001b[0m \u001b[0;34m\u001b[0m\u001b[0m\n\u001b[1;32m     29\u001b[0m \u001b[0;31m# constrained minimization\u001b[0m\u001b[0;34m\u001b[0m\u001b[0;34m\u001b[0m\u001b[0m\n\u001b[0;32m---> 30\u001b[0;31m \u001b[0;32mfrom\u001b[0m \u001b[0;34m.\u001b[0m\u001b[0mlbfgsb\u001b[0m \u001b[0;32mimport\u001b[0m \u001b[0m_minimize_lbfgsb\u001b[0m\u001b[0;34m\u001b[0m\u001b[0m\n\u001b[0m\u001b[1;32m     31\u001b[0m \u001b[0;32mfrom\u001b[0m \u001b[0;34m.\u001b[0m\u001b[0mtnc\u001b[0m \u001b[0;32mimport\u001b[0m \u001b[0m_minimize_tnc\u001b[0m\u001b[0;34m\u001b[0m\u001b[0m\n\u001b[1;32m     32\u001b[0m \u001b[0;32mfrom\u001b[0m \u001b[0;34m.\u001b[0m\u001b[0mcobyla\u001b[0m \u001b[0;32mimport\u001b[0m \u001b[0m_minimize_cobyla\u001b[0m\u001b[0;34m\u001b[0m\u001b[0m\n",
      "\u001b[0;32m/home/amine/miniconda3/lib/python3.5/site-packages/scipy/optimize/lbfgsb.py\u001b[0m in \u001b[0;36m<module>\u001b[0;34m()\u001b[0m\n\u001b[1;32m     42\u001b[0m                        \u001b[0m_check_unknown_options\u001b[0m\u001b[0;34m,\u001b[0m \u001b[0mwrap_function\u001b[0m\u001b[0;34m,\u001b[0m\u001b[0;34m\u001b[0m\u001b[0m\n\u001b[1;32m     43\u001b[0m                        _approx_fprime_helper)\n\u001b[0;32m---> 44\u001b[0;31m \u001b[0;32mfrom\u001b[0m \u001b[0mscipy\u001b[0m\u001b[0;34m.\u001b[0m\u001b[0msparse\u001b[0m\u001b[0;34m.\u001b[0m\u001b[0mlinalg\u001b[0m \u001b[0;32mimport\u001b[0m \u001b[0mLinearOperator\u001b[0m\u001b[0;34m\u001b[0m\u001b[0m\n\u001b[0m\u001b[1;32m     45\u001b[0m \u001b[0;34m\u001b[0m\u001b[0m\n\u001b[1;32m     46\u001b[0m \u001b[0m__all__\u001b[0m \u001b[0;34m=\u001b[0m \u001b[0;34m[\u001b[0m\u001b[0;34m'fmin_l_bfgs_b'\u001b[0m\u001b[0;34m,\u001b[0m \u001b[0;34m'LbfgsInvHessProduct'\u001b[0m\u001b[0;34m]\u001b[0m\u001b[0;34m\u001b[0m\u001b[0m\n",
      "\u001b[0;32m/home/amine/miniconda3/lib/python3.5/site-packages/scipy/sparse/linalg/__init__.py\u001b[0m in \u001b[0;36m<module>\u001b[0;34m()\u001b[0m\n\u001b[1;32m    114\u001b[0m \u001b[0;32mfrom\u001b[0m \u001b[0;34m.\u001b[0m\u001b[0minterface\u001b[0m \u001b[0;32mimport\u001b[0m \u001b[0;34m*\u001b[0m\u001b[0;34m\u001b[0m\u001b[0m\n\u001b[1;32m    115\u001b[0m \u001b[0;32mfrom\u001b[0m \u001b[0;34m.\u001b[0m\u001b[0meigen\u001b[0m \u001b[0;32mimport\u001b[0m \u001b[0;34m*\u001b[0m\u001b[0;34m\u001b[0m\u001b[0m\n\u001b[0;32m--> 116\u001b[0;31m \u001b[0;32mfrom\u001b[0m \u001b[0;34m.\u001b[0m\u001b[0mmatfuncs\u001b[0m \u001b[0;32mimport\u001b[0m \u001b[0;34m*\u001b[0m\u001b[0;34m\u001b[0m\u001b[0m\n\u001b[0m\u001b[1;32m    117\u001b[0m \u001b[0;32mfrom\u001b[0m \u001b[0;34m.\u001b[0m\u001b[0m_onenormest\u001b[0m \u001b[0;32mimport\u001b[0m \u001b[0;34m*\u001b[0m\u001b[0;34m\u001b[0m\u001b[0m\n\u001b[1;32m    118\u001b[0m \u001b[0;32mfrom\u001b[0m \u001b[0;34m.\u001b[0m\u001b[0m_norm\u001b[0m \u001b[0;32mimport\u001b[0m \u001b[0;34m*\u001b[0m\u001b[0;34m\u001b[0m\u001b[0m\n",
      "\u001b[0;32m/home/amine/miniconda3/lib/python3.5/site-packages/scipy/sparse/linalg/matfuncs.py\u001b[0m in \u001b[0;36m<module>\u001b[0;34m()\u001b[0m\n\u001b[1;32m     17\u001b[0m \u001b[0;32mimport\u001b[0m \u001b[0mnumpy\u001b[0m \u001b[0;32mas\u001b[0m \u001b[0mnp\u001b[0m\u001b[0;34m\u001b[0m\u001b[0m\n\u001b[1;32m     18\u001b[0m \u001b[0;34m\u001b[0m\u001b[0m\n\u001b[0;32m---> 19\u001b[0;31m \u001b[0;32mimport\u001b[0m \u001b[0mscipy\u001b[0m\u001b[0;34m.\u001b[0m\u001b[0mmisc\u001b[0m\u001b[0;34m\u001b[0m\u001b[0m\n\u001b[0m\u001b[1;32m     20\u001b[0m \u001b[0;32mfrom\u001b[0m \u001b[0mscipy\u001b[0m\u001b[0;34m.\u001b[0m\u001b[0mlinalg\u001b[0m\u001b[0;34m.\u001b[0m\u001b[0mbasic\u001b[0m \u001b[0;32mimport\u001b[0m \u001b[0msolve\u001b[0m\u001b[0;34m,\u001b[0m \u001b[0msolve_triangular\u001b[0m\u001b[0;34m\u001b[0m\u001b[0m\n\u001b[1;32m     21\u001b[0m \u001b[0;34m\u001b[0m\u001b[0m\n",
      "\u001b[0;32m/home/amine/miniconda3/lib/python3.5/site-packages/scipy/misc/__init__.py\u001b[0m in \u001b[0;36m<module>\u001b[0;34m()\u001b[0m\n\u001b[1;32m     49\u001b[0m \u001b[0;32mfrom\u001b[0m \u001b[0;34m.\u001b[0m\u001b[0mcommon\u001b[0m \u001b[0;32mimport\u001b[0m \u001b[0;34m*\u001b[0m\u001b[0;34m\u001b[0m\u001b[0m\n\u001b[1;32m     50\u001b[0m \u001b[0;32mfrom\u001b[0m \u001b[0mnumpy\u001b[0m \u001b[0;32mimport\u001b[0m \u001b[0mwho\u001b[0m\u001b[0;34m,\u001b[0m \u001b[0msource\u001b[0m\u001b[0;34m,\u001b[0m \u001b[0minfo\u001b[0m \u001b[0;32mas\u001b[0m \u001b[0m_info\u001b[0m\u001b[0;34m\u001b[0m\u001b[0m\n\u001b[0;32m---> 51\u001b[0;31m \u001b[0;32mfrom\u001b[0m \u001b[0mscipy\u001b[0m\u001b[0;34m.\u001b[0m\u001b[0mspecial\u001b[0m \u001b[0;32mimport\u001b[0m \u001b[0mcomb\u001b[0m\u001b[0;34m,\u001b[0m \u001b[0mfactorial\u001b[0m\u001b[0;34m,\u001b[0m \u001b[0mfactorial2\u001b[0m\u001b[0;34m,\u001b[0m \u001b[0mfactorialk\u001b[0m\u001b[0;34m\u001b[0m\u001b[0m\n\u001b[0m\u001b[1;32m     52\u001b[0m \u001b[0;34m\u001b[0m\u001b[0m\n\u001b[1;32m     53\u001b[0m \u001b[0;32mimport\u001b[0m \u001b[0msys\u001b[0m\u001b[0;34m\u001b[0m\u001b[0m\n",
      "\u001b[0;32m/home/amine/miniconda3/lib/python3.5/site-packages/scipy/special/__init__.py\u001b[0m in \u001b[0;36m<module>\u001b[0;34m()\u001b[0m\n\u001b[1;32m    636\u001b[0m \u001b[0;32mfrom\u001b[0m \u001b[0;34m.\u001b[0m\u001b[0m_ufuncs\u001b[0m \u001b[0;32mimport\u001b[0m \u001b[0;34m*\u001b[0m\u001b[0;34m\u001b[0m\u001b[0m\n\u001b[1;32m    637\u001b[0m \u001b[0;34m\u001b[0m\u001b[0m\n\u001b[0;32m--> 638\u001b[0;31m \u001b[0;32mfrom\u001b[0m \u001b[0;34m.\u001b[0m\u001b[0mbasic\u001b[0m \u001b[0;32mimport\u001b[0m \u001b[0;34m*\u001b[0m\u001b[0;34m\u001b[0m\u001b[0m\n\u001b[0m\u001b[1;32m    639\u001b[0m \u001b[0;32mfrom\u001b[0m \u001b[0;34m.\u001b[0m \u001b[0;32mimport\u001b[0m \u001b[0mspecfun\u001b[0m\u001b[0;34m\u001b[0m\u001b[0m\n\u001b[1;32m    640\u001b[0m \u001b[0;32mfrom\u001b[0m \u001b[0;34m.\u001b[0m \u001b[0;32mimport\u001b[0m \u001b[0morthogonal\u001b[0m\u001b[0;34m\u001b[0m\u001b[0m\n",
      "\u001b[0;32m/home/amine/miniconda3/lib/python3.5/site-packages/scipy/special/basic.py\u001b[0m in \u001b[0;36m<module>\u001b[0;34m()\u001b[0m\n\u001b[1;32m     13\u001b[0m                    \u001b[0mwhere\u001b[0m\u001b[0;34m,\u001b[0m \u001b[0mmgrid\u001b[0m\u001b[0;34m,\u001b[0m \u001b[0msin\u001b[0m\u001b[0;34m,\u001b[0m \u001b[0mplace\u001b[0m\u001b[0;34m,\u001b[0m \u001b[0missubdtype\u001b[0m\u001b[0;34m,\u001b[0m \u001b[0mextract\u001b[0m\u001b[0;34m,\u001b[0m\u001b[0;34m\u001b[0m\u001b[0m\n\u001b[1;32m     14\u001b[0m                    less, inexact, nan, zeros, atleast_1d, sinc)\n\u001b[0;32m---> 15\u001b[0;31m from ._ufuncs import (ellipkm1, mathieu_a, mathieu_b, iv, jv, gamma,\n\u001b[0m\u001b[1;32m     16\u001b[0m                       \u001b[0mpsi\u001b[0m\u001b[0;34m,\u001b[0m \u001b[0m_zeta\u001b[0m\u001b[0;34m,\u001b[0m \u001b[0mhankel1\u001b[0m\u001b[0;34m,\u001b[0m \u001b[0mhankel2\u001b[0m\u001b[0;34m,\u001b[0m \u001b[0myv\u001b[0m\u001b[0;34m,\u001b[0m \u001b[0mkv\u001b[0m\u001b[0;34m,\u001b[0m \u001b[0m_gammaln\u001b[0m\u001b[0;34m,\u001b[0m\u001b[0;34m\u001b[0m\u001b[0m\n\u001b[1;32m     17\u001b[0m                       ndtri, errprint, poch, binom, hyp0f1)\n",
      "\u001b[0;31mImportError\u001b[0m: cannot import name 'ellipkm1'"
     ]
    }
   ],
   "source": [
    "# Modules importés\n",
    "\n",
    "import numpy as np\n",
    "import matplotlib.pyplot as plt\n",
    "from tools import *\n",
    "from scipy.optimize import minimize"
   ]
  },
  {
   "cell_type": "code",
   "execution_count": 9,
   "metadata": {
    "collapsed": false,
    "deletable": true,
    "editable": true
   },
   "outputs": [
    {
     "ename": "IndentationError",
     "evalue": "expected an indented block (<ipython-input-9-661cd72e6df8>, line 16)",
     "output_type": "error",
     "traceback": [
      "\u001b[0;36m  File \u001b[0;32m\"<ipython-input-9-661cd72e6df8>\"\u001b[0;36m, line \u001b[0;32m16\u001b[0m\n\u001b[0;31m    def fit(self, X, Y, model=likelihoodBernouilli, eps = 10**(-6)):\u001b[0m\n\u001b[0m      ^\u001b[0m\n\u001b[0;31mIndentationError\u001b[0m\u001b[0;31m:\u001b[0m expected an indented block\n"
     ]
    }
   ],
   "source": [
    "class LearnCrowd:\n",
    "    def __init__(self, T, N, d):\n",
    "        self.alpha = np.zeros((1,d)) # Poids des dimensions\n",
    "        self.beta = 0\n",
    "        self.w = np.zeros((d,T)) # Poids des labelleurs\n",
    "        self.gamma = np.zeros((1,T))\n",
    "        \n",
    "    def likelihoodBernouilli(self, X, Y):\n",
    "        #proba cond du label Yt du labelleur t pour la donnée i sachant le vrai label 0 ou 1 (Bernouilli)\n",
    "        y_cond_z = np.zeros((N,T,2))\n",
    "        rlog=lambda i,t: 1/(1+exp(-np.dot(self.w(:,t).T,X[i,:])-self.gamma[1,t]))   #indice de la donnée, indice du labelleur\n",
    "        rlog=np.vectorize(rlog) #rlog c'est neta\n",
    "        for (t in range(T)):\n",
    "            y_cond_z[:,t,0] = pow(1-rlog(:,t),np.abs(Y[:,t]))*pow(rlog(:,t),1-np.abs(Y[:,t]))\n",
    "            y_cond_z[:,t,1] = pow(1-rlog(:,t),np.abs(Y[:,t]-1))*pow(rlog(:,t),1-np.abs(Y[:,t]-1))\n",
    "        #hyp de base que l'on pourra prendre pour simplifier neta[i,t]=rlog(i,t)=neta[t]\n",
    "        #cet hyp revient à donner une proba constante de se tromper pour le labelleur t quelque soit la donnée\n",
    "        #il faudrait alors rajouter un self.neta=np.zeros(1,T) au init pour le modèle de Bernouilli\n",
    "        \n",
    "        #proba que le label soit 0 ou 1 sachant la donnée (Rlog)\n",
    "        z_cond_x = np.zeros((N,2))\n",
    "        sigm = lambda x:  1/(1+exp(-x))\n",
    "        sigm=np.vectorize(sigm)\n",
    "        z_cond_x[:,0] = sigm(np.dot(self.alpha.T,X)-self.beta)\n",
    "        z_cond_x[:,1] = 1-z_cond_x[:,0]\n",
    "        \n",
    "        #z_cond_x(i,1) = 1/(1+exp(-np.dot(self.alpha.T,X(i,:))-self.beta))\n",
    "        #z_cond_x(i,2) = 1-z_cond_x(i,1)\n",
    "        \n",
    "        return np.multiply(np.prod(y_cond_z,axis=1),z_cond_x)\n",
    "        \n",
    "    \n",
    "    def likelihoodGaussian(self, X, Y):\n",
    "        #proba cond du label Yt du labelleur t pour la donnée i sachant le vrai label 0 ou 1 (Bernouilli)\n",
    "        y_cond_z_cond_x = np.zeros((N,T,2))\n",
    "        rlog=lambda i,t: 1/(1+exp(-np.dot(self.w(:,t).T,X[i,:])-self.gamma[1,t]))   #indice de la donnée, indice du labelleur\n",
    "        rlog=np.vectorize(rlog)\n",
    "        norm=lambda x,mu,sigma:1/(sqrt(2*np.pi)*sigma)*exp(-pow((x-mu),2)/pow(sigma,2))\n",
    "        norm=np.vectorize(norm)\n",
    "        for (t in range(T)):\n",
    "            y_cond_z_cond_x[:,t,0] = norm(Y[:,t],0,rlog(:,t))\n",
    "            y_cond_z_cond_x[:,t,0] = norm(Y[:,t],1,rlog(:,t))\n",
    "        \n",
    "        #proba que le label soit 0 ou 1 sachant la donnée (Rlog)\n",
    "        z_cond_x = np.zeros((N,2))\n",
    "        sigm = lambda x:  1/(1+exp(-x))\n",
    "        sigm=np.vectorize(sigm)\n",
    "        z_cond_x[:,0] = sigm(np.dot(self.alpha.T,X)-self.beta)\n",
    "        z_cond_x[:,1] = 1-z_cond_x[:,0]\n",
    "        \n",
    "        return np.multiply(np.prod(y_cond_z_cond_x,axis=1),z_cond_x)\n",
    "        \n",
    "    def fit(self, X, Y, model=likelihoodBernouilli,  eps = 10**(-6)):\n",
    "        self.alpha = np.zeros((1,d))\n",
    "        self.beta = 0\n",
    "        alphaNew = np.ones((1,d))\n",
    "        betaNew = 1\n",
    "        while (np.linalg.norm(self.alpha-alphaNew)**2 + (self.beta-betaNew)**2 >= eps):\n",
    "            # Expectation (E-step)\n",
    "            P = model(self, X, Y)\n",
    "            # Maximization\n",
    "            lh=np.sum(np.multiply(P(:,0).T,np.log(P(:,0)))+np.multiply(P(:,1).T,np.log(P(:,1))))\n",
    "            \n",
    "            grad_lh_alpha = \n",
    "            grad_lh_beta = \n",
    "            grad_lh_gamma = \n",
    "            grad_lh_w = \n",
    "            grad_lh_eta = \n",
    "            \n",
    "            \n",
    "    def predict(self, X):\n",
    "        \n",
    "    def predictV2(self, Y):\n",
    "        \n",
    "    def score(self, X, Z):\n",
    "        # On connaît la vérité terrain\n",
    "        return np.sum(predict(X)==Z)\n",
    "    \n",
    "    def get_eps(self):\n",
    "        \n",
    "    def loss(self,data,y):\n",
    "        \n",
    "    def loss_g(self,data,y):\n"
   ]
  },
  {
   "cell_type": "code",
   "execution_count": null,
   "metadata": {
    "collapsed": true,
    "deletable": true,
    "editable": true
   },
   "outputs": [],
   "source": []
  }
 ],
 "metadata": {
  "kernelspec": {
   "display_name": "Python 3",
   "language": "python",
   "name": "python3"
  },
  "language_info": {
   "codemirror_mode": {
    "name": "ipython",
    "version": 3
   },
   "file_extension": ".py",
   "mimetype": "text/x-python",
   "name": "python",
   "nbconvert_exporter": "python",
   "pygments_lexer": "ipython3",
   "version": "3.5.2"
  }
 },
 "nbformat": 4,
 "nbformat_minor": 2
}
